{
 "cells": [
  {
   "cell_type": "markdown",
   "metadata": {
    "slideshow": {
     "slide_type": "slide"
    }
   },
   "source": [
    "<img src=\"https://blog.jupyter.org/content/images/2015/02/jupyter-sq-text.png\" width=\"100px\" style=\"float: right\"/>\n",
    "\n",
    "# Five Cool Jupyter Things <small style=\"vertical-align: baseline\">in Five Minutes</small>\n",
    "\n",
    "---\n",
    "\n",
    "Peter Parente, [@parente](https://github.com/parente) <br />\n",
    "MaxPoint Interactive"
   ]
  },
  {
   "cell_type": "markdown",
   "metadata": {
    "slideshow": {
     "slide_type": "slide"
    }
   },
   "source": [
    "# 1. Docker Stacks\n",
    "\n",
    "---\n",
    "\n",
    "<p><center><em>Opinionated stacks of ready-to-run Jupyter applications in Docker</em></center></p>\n",
    "\n",
    "<center><video preload=\"auto\" controls src=\"//ibm.box.com/shared/static/9bynqv4xo77nkt4c83lb76g5x8b3ul35.webm\" style=\"max-height: 512px\"></video></center>"
   ]
  },
  {
   "cell_type": "markdown",
   "metadata": {
    "slideshow": {
     "slide_type": "slide"
    }
   },
   "source": [
    "# 2. Dashboard Layout\n",
    "\n",
    "---\n",
    "\n",
    "<p><center><em>Put notebook output into a sharable dashboard layout for ease of interaction</em></center></p>\n",
    "\n",
    "<center><video preload=\"auto\" controls src=\"//ibm.box.com/shared/static/3bu63ej8uhgb8mvztdctj0x5tuwu4y8t.webm\" style=\"max-height: 512px\"></video></center>"
   ]
  },
  {
   "cell_type": "markdown",
   "metadata": {
    "slideshow": {
     "slide_type": "slide"
    }
   },
   "source": [
    "# 3. Notebook-Defined Web APIs\n",
    "\n",
    "---\n",
    "\n",
    "<p><center><em>Deploy annotated notebooks as HTTP microservices</em></center></p>\n",
    "\n",
    "<center><video preload=\"auto\" controls src=\"//ibm.box.com/shared/static/g0n6xvxppjc1b1fisam6cca6wimng9o2.webm\" style=\"max-height: 512px\"></video></center>"
   ]
  },
  {
   "cell_type": "markdown",
   "metadata": {
    "slideshow": {
     "slide_type": "slide"
    }
   },
   "source": [
    "# 4. Notebook Search\n",
    "\n",
    "---\n",
    "\n",
    "<p><center><em>Search filenames, markdown, code to quickly locate past analyses</em></center></p>\n",
    "\n",
    "<center><video preload=\"auto\" controls src=\"//ibm.box.com/shared/static/6o8n4165fqnms7nqygtrhkhepscv7na9.webm\" style=\"max-height: 512px\"></video></center>"
   ]
  },
  {
   "cell_type": "markdown",
   "metadata": {
    "slideshow": {
     "slide_type": "slide"
    }
   },
   "source": [
    "# 5. Notebooks as Python Modules\n",
    "\n",
    "---\n",
    "\n",
    "<p><center><em>Import Python notebooks as Python modules and snippet libraries</em></center></p>\n",
    "\n",
    "<center><video preload=\"auto\" controls src=\"//ibm.box.com/shared/static/35i2h5wpa7wx8o64lzg4l8ts57nf1tw1.webm\" style=\"max-height: 512px\"></video></center>"
   ]
  },
  {
   "cell_type": "markdown",
   "metadata": {
    "slideshow": {
     "slide_type": "slide"
    }
   },
   "source": [
    "# Bonus: nbviewer slideshow\n",
    "\n",
    "---\n",
    "\n",
    "<p><center><em>This presentation is a notebook posted as a gist.</center></p>\n",
    "\n",
    "<center><video preload=\"auto\" controls src=\"//dl.dropboxusercontent.com/u/264241/nbviewer_slides.webm\" style=\"max-height: 512px\"></video></center>"
   ]
  },
  {
   "cell_type": "markdown",
   "metadata": {
    "slideshow": {
     "slide_type": "slide"
    }
   },
   "source": [
    "# Links\n",
    "\n",
    "* [1] https://github.com/jupyter/docker-stacks\n",
    "* [2] https://github.com/jupyter-incubator/dashboards\n",
    "* [3] https://github.com/jupyter/kernel_gateway\n",
    "* [4,5] https://github.com/jupyter-incubator/contentmanagement\n",
    "* [Bonus] https://nbviewer.jupyter.org"
   ]
  }
 ],
 "metadata": {
  "celltoolbar": "Slideshow",
  "gist_id": "b79db7d08d4fb628899f8caa2446d5d7",
  "kernelspec": {
   "display_name": "Python 3",
   "language": "python",
   "name": "python3"
  },
  "language_info": {
   "codemirror_mode": {
    "name": "ipython",
    "version": 3
   },
   "file_extension": ".py",
   "mimetype": "text/x-python",
   "name": "python",
   "nbconvert_exporter": "python",
   "pygments_lexer": "ipython3",
   "version": "3.5.2"
  }
 },
 "nbformat": 4,
 "nbformat_minor": 0
}
